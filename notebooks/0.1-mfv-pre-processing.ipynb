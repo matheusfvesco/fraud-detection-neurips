{
 "cells": [
  {
   "cell_type": "code",
   "execution_count": 1,
   "id": "59c36ab7",
   "metadata": {},
   "outputs": [],
   "source": [
    "import os\n",
    "os.environ[\"JAVA_HOME\"] = \"/usr\""
   ]
  },
  {
   "cell_type": "code",
   "execution_count": 2,
   "id": "947752a4",
   "metadata": {},
   "outputs": [
    {
     "name": "stderr",
     "output_type": "stream",
     "text": [
      "WARNING: Using incubator modules: jdk.incubator.vector\n",
      "Using Spark's default log4j profile: org/apache/spark/log4j2-defaults.properties\n",
      "25/07/27 12:25:20 WARN Utils: Your hostname, Corei9-13900K-64GB, resolves to a loopback address: 127.0.1.1; using 143.107.145.69 instead (on interface enp3s0)\n",
      "25/07/27 12:25:20 WARN Utils: Set SPARK_LOCAL_IP if you need to bind to another address\n",
      "Using Spark's default log4j profile: org/apache/spark/log4j2-defaults.properties\n",
      "Setting default log level to \"WARN\".\n",
      "To adjust logging level use sc.setLogLevel(newLevel). For SparkR, use setLogLevel(newLevel).\n",
      "25/07/27 12:25:21 WARN NativeCodeLoader: Unable to load native-hadoop library for your platform... using builtin-java classes where applicable\n"
     ]
    },
    {
     "name": "stdout",
     "output_type": "stream",
     "text": [
      "+-----+\n",
      "|hello|\n",
      "+-----+\n",
      "|spark|\n",
      "+-----+\n",
      "\n"
     ]
    }
   ],
   "source": [
    "import pyspark \n",
    "\n",
    "from pyspark.sql import SparkSession\n",
    "\n",
    "spark = SparkSession.builder.getOrCreate()\n",
    "\n",
    "df = spark.sql(\"Select 'spark' as hello \")\n",
    "\n",
    "df.show()"
   ]
  },
  {
   "cell_type": "code",
   "execution_count": 3,
   "id": "aa252435",
   "metadata": {},
   "outputs": [
    {
     "name": "stderr",
     "output_type": "stream",
     "text": [
      "[Stage 2:=>                                                       (1 + 31) / 32]\r"
     ]
    },
    {
     "name": "stdout",
     "output_type": "stream",
     "text": [
      "+----------+------------------+---------------------+-------------------------+----------------------------+------------+------------------+----------------------+------------+------------+------------------+------------------+------------------+--------------------+--------------------------------+-----------------+-----------------+-------------+--------------+----------------+------------------+-----------------+---------------+---------------------+---------------+--------+-------------------------+---------+------------------+-------------------------+------------------+-----+\n",
      "|fraud_bool|            income|name_email_similarity|prev_address_months_count|current_address_months_count|customer_age|days_since_request|intended_balcon_amount|payment_type|zip_count_4w|       velocity_6h|      velocity_24h|       velocity_4w|bank_branch_count_8w|date_of_birth_distinct_emails_4w|employment_status|credit_risk_score|email_is_free|housing_status|phone_home_valid|phone_mobile_valid|bank_months_count|has_other_cards|proposed_credit_limit|foreign_request|  source|session_length_in_minutes|device_os|keep_alive_session|device_distinct_emails_8w|device_fraud_count|month|\n",
      "+----------+------------------+---------------------+-------------------------+----------------------------+------------+------------------+----------------------+------------+------------+------------------+------------------+------------------+--------------------+--------------------------------+-----------------+-----------------+-------------+--------------+----------------+------------------+-----------------+---------------+---------------------+---------------+--------+-------------------------+---------+------------------+-------------------------+------------------+-----+\n",
      "|         0|               0.3|    0.986506310633034|                       -1|                          25|          40|0.0067353870811739|    102.45371092469456|          AA|        1059|13096.035018400871| 7850.955007125409| 6742.080561007602|                   5|                               5|               CB|              163|            1|            BC|               0|                 1|                9|              0|               1500.0|              0|INTERNET|       16.224843433978073|    linux|                 1|                        1|                 0|    0|\n",
      "|         0|               0.8|   0.6174260062650061|                       -1|                          89|          20| 0.010095097878573|   -0.8495509687507287|          AD|        1658| 9223.283430930423| 5745.251480643791|5941.6648588359885|                   3|                              18|               CA|              154|            1|            BC|               1|                 1|                2|              0|               1500.0|              0|INTERNET|         3.36385371062431|    other|                 1|                        1|                 0|    0|\n",
      "|         0|               0.8|   0.9967070206409232|                        9|                          14|          40|0.0123163495250501|   -1.4903855214855013|          AB|        1095| 4471.472148765561| 5471.988958014066| 5992.555113248597|                  15|                              11|               CA|               89|            1|            BC|               0|                 1|               30|              0|                200.0|              0|INTERNET|        22.73055923496224|  windows|                 0|                        1|                 0|    0|\n",
      "|         0|0.6000000000000001|   0.4750999462380287|                       11|                          14|          30|0.0069908306305029|   -1.8631006767118188|          AB|        3483|14431.993621381194|  6755.34447929092| 5970.336830507939|                  11|                              13|               CA|               90|            1|            BC|               0|                 1|                1|              0|                200.0|              0|INTERNET|       15.215816122068803|    linux|                 1|                        1|                 0|    0|\n",
      "|         0|               0.9|   0.8423068370138775|                       -1|                          29|          40| 5.742625847255586|    47.152497798787614|          AA|        2339| 7601.511579253147| 5124.046929628144| 5940.734211620649|                   1|                               6|               CA|               91|            0|            BC|               1|                 1|               26|              0|                200.0|              0|INTERNET|        3.743047928033851|    other|                 0|                        1|                 0|    0|\n",
      "|         0|0.6000000000000001|   0.2948404635987846|                       -1|                         369|          30| 0.024231885459018|    -1.232556198255754|          AD|        1204|11556.955513727777| 7506.951275553085| 6482.924037404599|                 705|                               5|               CB|              134|            1|            BE|               1|                 1|               30|              0|                200.0|              0|INTERNET|        6.987315503150867|    linux|                 1|                        1|                 0|    0|\n",
      "|         0|               0.2|   0.7730854651787792|                       22|                           4|          40|0.0069193596555432|   -0.5446764953031848|          AB|        1998|11723.993606010376| 7864.277143635152| 6338.799156196561|                  28|                               8|               CA|               72|            1|            BC|               1|                 1|                1|              0|                200.0|              0|INTERNET|        28.19992278516053|      x11|                 1|                        1|                 0|    0|\n",
      "|         0|               0.8|    0.153880432777335|                       -1|                         103|          40|0.0451218390683624|   -1.1011844334405805|          AB|        1548| 4999.555800752307| 4526.861667090668| 6426.790816709525|                   6|                               7|               CA|              163|            0|            BE|               1|                 1|               25|              1|                200.0|              0|INTERNET|        11.23426418538036|    other|                 1|                        1|                 0|    0|\n",
      "|         0|               0.3|   0.5236546591292989|                       21|                           2|          30|0.0352056883298541|   -0.9557372072420892|          AB|        1781|6979.9940022111805|  4335.68534636426| 6624.957941677998|                   2|                              10|               CA|               35|            0|            BC|               1|                 0|                2|              0|                200.0|              0|INTERNET|        5.329386683741856|    other|                 1|                        1|                 0|    0|\n",
      "|         0|               0.8|   0.8344745881003516|                       -1|                         134|          20|0.0172445227162768|   -1.3563931999585843|          AD|        3113| 7549.992085884615| 6273.922109554705| 6312.998834706559|                  14|                              20|               CA|              201|            1|            BD|               1|                 1|               15|              0|               1500.0|              0|INTERNET|        4.103969778315406|    other|                 1|                        1|                 0|    0|\n",
      "|         0|               0.9|   0.4750148740479939|                       -1|                          67|          50| 0.008162056665278|   -0.9476592716157056|          AB|        2998| 7452.139159999395| 6026.624267390926| 6305.932829661439|                  11|                               9|               CA|              184|            0|            BA|               1|                 1|                1|              0|               1500.0|              0|INTERNET|        2.892487656957805|    other|                 1|                        1|                 0|    0|\n",
      "|         0|               0.8|    0.333012708390063|                       -1|                          14|          40| 3.075942229916E-4|    53.106292250257646|          AA|        2355| 5585.827390065845| 6381.506857907663| 6392.364926146369|                   2|                               6|               CA|              136|            0|            BA|               0|                 1|               15|              0|               1500.0|              0|INTERNET|        32.90878723758514|    other|                 1|                        1|                 0|    0|\n",
      "|         0|               0.1|   0.7674319367073007|                       -1|                          34|          20|0.0213463384257696|   -0.6698555056935508|          AB|        2491| 6652.516397836012| 6720.662514085203| 5987.011108097575|                 692|                              22|               CA|               84|            1|            BE|               0|                 1|               30|              0|                200.0|              0|INTERNET|        4.199729019965292|    other|                 0|                        2|                 0|    0|\n",
      "|         0|               0.9|   0.8660885394584622|                       -1|                          33|          30|0.0346622107876037|   -0.9752302011240784|          AD|        1249|10746.590276044511|5163.3884706598055| 6734.662449722037|                  18|                               8|               CA|              123|            0|            BA|               1|                 1|               30|              0|               1500.0|              0|INTERNET|       20.607228892568408|macintosh|                 0|                        1|                 0|    0|\n",
      "|         0|               0.9|   0.0526151465040271|                       -1|                         156|          30| 0.025659621303539|   -1.5701643273245482|          AD|        1685|10282.430084742316| 7499.069980705641|6785.3688568162925|                  28|                              16|               CB|               88|            1|            BA|               0|                 1|                1|              0|                200.0|              0|INTERNET|        6.324050439402358|    linux|                 1|                        1|                 0|    0|\n",
      "|         0|               0.9|   0.5207181701575837|                       -1|                          31|          50|0.0057293932249281|   -1.0082232359577044|          AC|         597| 2778.119599099028|6002.7218898542615| 6303.077748491805|                  12|                              26|               CA|               80|            1|            BC|               0|                 1|               10|              0|                200.0|              0|INTERNET|       3.7319703156421618|    linux|                 1|                        1|                 0|    0|\n",
      "|         0|               0.8|   0.1223696301274405|                       -1|                          20|          30| 0.023472004150741|   -0.8816399994033612|          AD|        1655| 4721.783888802728| 3678.936076294419| 6380.760673482324|                  26|                              15|               CA|              118|            0|            BC|               0|                 0|               30|              0|                200.0|              0|INTERNET|        7.836945285596486|  windows|                 1|                        1|                 0|    0|\n",
      "|         0|0.6000000000000001|   0.4829057489273572|                       -1|                          38|          40|  0.03792492562703|   -0.9946136114088656|          AC|        2774| 5692.610361988332| 5099.913245706173| 6706.703152553651|                   1|                              10|               CA|              137|            1|            BC|               0|                 1|               -1|              0|                200.0|              0|INTERNET|        4.486325958572444|    other|                 1|                        1|                 0|    0|\n",
      "|         0|               0.2|    0.527750863793881|                       13|                         114|          20|0.0031714486317217|   -0.8483468522514769|          AB|        4389|12256.250056284667|5390.9504308211135| 6330.661519362458|                1839|                              18|               CA|               49|            0|            BB|               1|                 1|               15|              0|                200.0|              0|INTERNET|       2.8381944569562854|  windows|                 1|                        2|                 0|    0|\n",
      "|         0|               0.5|   0.6748698374650179|                       -1|                         372|          30|0.0044061446464032|    30.300980254556983|          AA|        2069|12129.970774522912| 7063.487188962284|  6772.31948351953|                1590|                              11|               CA|              268|            1|            BE|               1|                 1|               25|              0|               1500.0|              0|INTERNET|        6.336454889251335|    other|                 1|                        1|                 0|    0|\n",
      "+----------+------------------+---------------------+-------------------------+----------------------------+------------+------------------+----------------------+------------+------------+------------------+------------------+------------------+--------------------+--------------------------------+-----------------+-----------------+-------------+--------------+----------------+------------------+-----------------+---------------+---------------------+---------------+--------+-------------------------+---------+------------------+-------------------------+------------------+-----+\n",
      "only showing top 20 rows\n"
     ]
    },
    {
     "name": "stderr",
     "output_type": "stream",
     "text": [
      "25/07/27 12:25:24 WARN SparkStringUtils: Truncated the string representation of a plan since it was too large. This behavior can be adjusted by setting 'spark.sql.debug.maxToStringFields'.\n"
     ]
    }
   ],
   "source": [
    "df = spark.read.csv(\"../data/raw/Base.csv\", header=True, inferSchema=True)\n",
    "df.show()"
   ]
  },
  {
   "cell_type": "code",
   "execution_count": 4,
   "id": "ec35ace4",
   "metadata": {},
   "outputs": [
    {
     "name": "stderr",
     "output_type": "stream",
     "text": [
      "[Stage 4:========================================>                (23 + 9) / 32]\r"
     ]
    },
    {
     "name": "stdout",
     "output_type": "stream",
     "text": [
      "+-------+-----------------+-------------------+---------------------+-------------------------+----------------------------+-----------------+--------------------+----------------------+------------+------------------+-------------------+------------------+-----------------+--------------------+--------------------------------+-----------------+-----------------+------------------+--------------+------------------+-------------------+------------------+-------------------+---------------------+------------------+--------+-------------------------+---------+-------------------+-------------------------+------------------+------------------+\n",
      "|summary|       fraud_bool|             income|name_email_similarity|prev_address_months_count|current_address_months_count|     customer_age|  days_since_request|intended_balcon_amount|payment_type|      zip_count_4w|        velocity_6h|      velocity_24h|      velocity_4w|bank_branch_count_8w|date_of_birth_distinct_emails_4w|employment_status|credit_risk_score|     email_is_free|housing_status|  phone_home_valid| phone_mobile_valid| bank_months_count|    has_other_cards|proposed_credit_limit|   foreign_request|  source|session_length_in_minutes|device_os| keep_alive_session|device_distinct_emails_8w|device_fraud_count|             month|\n",
      "+-------+-----------------+-------------------+---------------------+-------------------------+----------------------------+-----------------+--------------------+----------------------+------------+------------------+-------------------+------------------+-----------------+--------------------+--------------------------------+-----------------+-----------------+------------------+--------------+------------------+-------------------+------------------+-------------------+---------------------+------------------+--------+-------------------------+---------+-------------------+-------------------------+------------------+------------------+\n",
      "|  count|          1000000|            1000000|              1000000|                  1000000|                     1000000|          1000000|             1000000|               1000000|     1000000|           1000000|            1000000|           1000000|          1000000|             1000000|                         1000000|          1000000|          1000000|           1000000|       1000000|           1000000|            1000000|           1000000|            1000000|              1000000|           1000000| 1000000|                  1000000|  1000000|            1000000|                  1000000|           1000000|           1000000|\n",
      "|   mean|         0.011029| 0.5626955999999951|   0.4936940949631271|                16.718568|                   86.587867|         33.68908|  1.0257052309958083|     8.661498537172495|        NULL|       1572.692049|  5665.296604795272| 4769.781964962282|4856.324015811878|          184.361849|                        9.503544|             NULL|       130.989595|          0.529886|          NULL|          0.417077|           0.889676|         10.839303|           0.222988|            515.85101|          0.025242|    NULL|        7.544940201289991|     NULL|           0.576947|                 1.018312|               0.0|          3.288674|\n",
      "| stddev|0.104438364916213|0.29034260114469274|  0.28912479999536617|        44.04623003277076|           88.40659910389655|12.02579865844399|   5.381834634593088|    20.236154606246828|        NULL|1005.3745649573578|  3009.380665329911| 1479.212612015711|919.8439342098872|   459.6253290167376|               5.033791888738038|             NULL|69.68181240676044|0.4991062773709383|          NULL|0.4930760785061666|0.31329333407641047|12.116874526578185|0.41625055569995967|     487.559901854775|0.1568593830182501|    NULL|        8.033106369073153|     NULL|0.49404392848248113|      0.18076145421716236|               0.0|2.2099941642000354|\n",
      "|    min|                0|                0.1| 1.434550484527563...|                       -1|                          -1|               10|4.036859788721786E-9|   -15.530554840076814|          AA|                 1|-170.60307235124628|1300.3073144849477|2825.748405284728|                   0|                               0|               CA|             -170|                 0|            BA|                 0|                  0|                -1|                  0|                190.0|                 0|INTERNET|                     -1.0|    linux|                  0|                       -1|                 0|                 0|\n",
      "|    max|                1|                0.9|   0.9999993177937188|                      383|                         428|               90|   78.45690383509861|     112.9569276953714|          AE|              6700| 16715.565404174275| 9506.896596111665|6994.764200834217|                2385|                              39|               CG|              389|                 1|            BG|                 1|                  1|                32|                  1|               2100.0|                 1| TELEAPP|        85.89914319274027|      x11|                  1|                        2|                 0|                 7|\n",
      "+-------+-----------------+-------------------+---------------------+-------------------------+----------------------------+-----------------+--------------------+----------------------+------------+------------------+-------------------+------------------+-----------------+--------------------+--------------------------------+-----------------+-----------------+------------------+--------------+------------------+-------------------+------------------+-------------------+---------------------+------------------+--------+-------------------------+---------+-------------------+-------------------------+------------------+------------------+\n",
      "\n"
     ]
    },
    {
     "name": "stderr",
     "output_type": "stream",
     "text": [
      "                                                                                \r"
     ]
    }
   ],
   "source": [
    "df.describe().show()"
   ]
  },
  {
   "cell_type": "markdown",
   "id": "a0be9a2c",
   "metadata": {},
   "source": [
    "As noted in the EDA, the column device_fraud_count have all of its values as the same value. We will first drop it."
   ]
  },
  {
   "cell_type": "code",
   "execution_count": 5,
   "id": "26ec435b",
   "metadata": {},
   "outputs": [],
   "source": [
    "df = df.drop(\"device_fraud_count\")"
   ]
  },
  {
   "cell_type": "markdown",
   "id": "8d7ce275",
   "metadata": {},
   "source": [
    "### Missing Values\n",
    "\n",
    "Columns that present missing values:\n",
    "- prev_address_months_count (-1)\n",
    "- current_address_months_count (-1)\n",
    "- intended_balcon_amount ([-16, <0])\n",
    "- bank_months_count (-1)\n",
    "- session_length_in_minutes (-1)\n",
    "- device_distinct_emails (-1)"
   ]
  },
  {
   "cell_type": "code",
   "execution_count": 6,
   "id": "e259ae99",
   "metadata": {},
   "outputs": [],
   "source": [
    "from pyspark.sql.functions import col, when\n",
    "\n",
    "df = df.withColumn(\n",
    "    \"prev_address_months_count\",\n",
    "    when(col(\"prev_address_months_count\") == -1, 0)\n",
    "    .otherwise(col(\"prev_address_months_count\"))\n",
    ")"
   ]
  },
  {
   "cell_type": "code",
   "execution_count": 7,
   "id": "df530440",
   "metadata": {},
   "outputs": [],
   "source": [
    "df = df.withColumn(\n",
    "    \"current_address_months_count\",\n",
    "    when(col(\"current_address_months_count\") == -1, 0)\n",
    "    .otherwise(col(\"current_address_months_count\"))\n",
    ")"
   ]
  },
  {
   "cell_type": "code",
   "execution_count": 8,
   "id": "2c110ac5",
   "metadata": {},
   "outputs": [],
   "source": [
    "from pyspark.sql.functions import lit\n",
    "\n",
    "# Filter out negative values and compute median\n",
    "positive_df = df.filter(col(\"intended_balcon_amount\") >= 0)\n",
    "median_value = positive_df.approxQuantile(\"intended_balcon_amount\", [0.5], 0.01)[0]\n",
    "\n",
    "df = df.withColumn(\n",
    "    \"intended_balcon_amount\",\n",
    "    when(col(\"intended_balcon_amount\") == -1, lit(median_value))\n",
    "    .otherwise(col(\"intended_balcon_amount\"))\n",
    ")"
   ]
  },
  {
   "cell_type": "code",
   "execution_count": 9,
   "id": "a0e8bb78",
   "metadata": {},
   "outputs": [],
   "source": [
    "df = df.withColumn(\n",
    "    \"bank_months_count\",\n",
    "    when(col(\"bank_months_count\") == -1, 0)\n",
    "    .otherwise(col(\"bank_months_count\"))\n",
    ")"
   ]
  },
  {
   "cell_type": "code",
   "execution_count": 10,
   "id": "5ec9e193",
   "metadata": {},
   "outputs": [],
   "source": [
    "df = df.withColumn(\n",
    "    \"bank_months_count\",\n",
    "    when(col(\"bank_months_count\") == -1, 0)\n",
    "    .otherwise(col(\"bank_months_count\"))\n",
    ")"
   ]
  },
  {
   "cell_type": "code",
   "execution_count": 11,
   "id": "dd664b05",
   "metadata": {},
   "outputs": [],
   "source": [
    "# Filter out negative values and compute median\n",
    "positive_df = df.filter(col(\"session_length_in_minutes\") >= 0)\n",
    "median_value = positive_df.approxQuantile(\"session_length_in_minutes\", [0.5], 0.01)[0]\n",
    "\n",
    "df = df.withColumn(\n",
    "    \"session_length_in_minutes\",\n",
    "    when(col(\"session_length_in_minutes\") == -1, lit(median_value))\n",
    "    .otherwise(col(\"session_length_in_minutes\"))\n",
    ")"
   ]
  },
  {
   "cell_type": "markdown",
   "id": "44e20b7e",
   "metadata": {},
   "source": [
    "Median makes more sense in this case"
   ]
  },
  {
   "cell_type": "code",
   "execution_count": 12,
   "id": "72757974",
   "metadata": {},
   "outputs": [],
   "source": [
    "df = df.withColumn(\n",
    "    \"bank_months_count\",\n",
    "    when(col(\"bank_months_count\") == -1, 0)\n",
    "    .otherwise(col(\"bank_months_count\"))\n",
    ")"
   ]
  },
  {
   "cell_type": "code",
   "execution_count": 13,
   "id": "abe057d5",
   "metadata": {},
   "outputs": [],
   "source": [
    "df = df.withColumn(\n",
    "    \"device_distinct_emails_8w\",\n",
    "    when(col(\"device_distinct_emails_8w\") == -1, 1)\n",
    "    .otherwise(col(\"device_distinct_emails_8w\"))\n",
    ")"
   ]
  },
  {
   "cell_type": "code",
   "execution_count": 14,
   "id": "b693d113",
   "metadata": {},
   "outputs": [
    {
     "name": "stderr",
     "output_type": "stream",
     "text": [
      "[Stage 11:====================================>                  (21 + 11) / 32]\r"
     ]
    },
    {
     "name": "stdout",
     "output_type": "stream",
     "text": [
      "+-------+-----------------+-------------------+---------------------+-------------------------+----------------------------+-----------------+--------------------+----------------------+------------+------------------+-------------------+------------------+-----------------+--------------------+--------------------------------+-----------------+-----------------+------------------+--------------+------------------+-------------------+------------------+-------------------+---------------------+------------------+--------+-------------------------+---------+-------------------+-------------------------+------------------+\n",
      "|summary|       fraud_bool|             income|name_email_similarity|prev_address_months_count|current_address_months_count|     customer_age|  days_since_request|intended_balcon_amount|payment_type|      zip_count_4w|        velocity_6h|      velocity_24h|      velocity_4w|bank_branch_count_8w|date_of_birth_distinct_emails_4w|employment_status|credit_risk_score|     email_is_free|housing_status|  phone_home_valid| phone_mobile_valid| bank_months_count|    has_other_cards|proposed_credit_limit|   foreign_request|  source|session_length_in_minutes|device_os| keep_alive_session|device_distinct_emails_8w|             month|\n",
      "+-------+-----------------+-------------------+---------------------+-------------------------+----------------------------+-----------------+--------------------+----------------------+------------+------------------+-------------------+------------------+-----------------+--------------------+--------------------------------+-----------------+-----------------+------------------+--------------+------------------+-------------------+------------------+-------------------+---------------------+------------------+--------+-------------------------+---------+-------------------+-------------------------+------------------+\n",
      "|  count|          1000000|            1000000|              1000000|                  1000000|                     1000000|          1000000|             1000000|               1000000|     1000000|           1000000|            1000000|           1000000|          1000000|             1000000|                         1000000|          1000000|          1000000|           1000000|       1000000|           1000000|            1000000|           1000000|            1000000|              1000000|           1000000| 1000000|                  1000000|  1000000|            1000000|                  1000000|           1000000|\n",
      "|   mean|         0.011029| 0.5626955999999951|   0.4936940949631271|                17.431488|                   86.592121|         33.68908|  1.0257052309958083|     8.661498537172495|        NULL|       1572.692049|  5665.296604795272| 4769.781964962282|4856.324015811878|          184.361849|                        9.503544|             NULL|       130.989595|          0.529886|          NULL|          0.417077|           0.889676|         11.092938|           0.222988|            515.85101|          0.025242|    NULL|        7.557199578768893|     NULL|           0.576947|                  1.01903|          3.288674|\n",
      "| stddev|0.104438364916213|0.29034260114469274|  0.28912479999536617|       43.760840681104746|           88.40240835354629|12.02579865844399|   5.381834634593088|    20.236154606246828|        NULL|1005.3745649573578|  3009.380665329911| 1479.212612015711|919.8439342098872|   459.6253290167376|               5.033791888738038|             NULL|69.68181240676044|0.4991062773709383|          NULL|0.4930760785061666|0.31329333407641047|11.874435714187833|0.41625055569995967|     487.559901854775|0.1568593830182501|    NULL|        8.024694572495466|     NULL|0.49404392848248113|      0.17666887193812714|2.2099941642000354|\n",
      "|    min|                0|                0.1| 1.434550484527563...|                        0|                           0|               10|4.036859788721786E-9|   -15.530554840076814|          AA|                 1|-170.60307235124628|1300.3073144849477|2825.748405284728|                   0|                               0|               CA|             -170|                 0|            BA|                 0|                  0|                 0|                  0|                190.0|                 0|INTERNET|        8.720274159186E-4|    linux|                  0|                        0|                 0|\n",
      "|    max|                1|                0.9|   0.9999993177937188|                      383|                         428|               90|   78.45690383509861|     112.9569276953714|          AE|              6700| 16715.565404174275| 9506.896596111665|6994.764200834217|                2385|                              39|               CG|              389|                 1|            BG|                 1|                  1|                32|                  1|               2100.0|                 1| TELEAPP|        85.89914319274027|      x11|                  1|                        2|                 7|\n",
      "+-------+-----------------+-------------------+---------------------+-------------------------+----------------------------+-----------------+--------------------+----------------------+------------+------------------+-------------------+------------------+-----------------+--------------------+--------------------------------+-----------------+-----------------+------------------+--------------+------------------+-------------------+------------------+-------------------+---------------------+------------------+--------+-------------------------+---------+-------------------+-------------------------+------------------+\n",
      "\n"
     ]
    },
    {
     "name": "stderr",
     "output_type": "stream",
     "text": [
      "                                                                                \r"
     ]
    }
   ],
   "source": [
    "df.describe().show()"
   ]
  },
  {
   "cell_type": "markdown",
   "id": "05c118ee",
   "metadata": {},
   "source": [
    "### Splits\n",
    "\n",
    "The month column is intended to be used to split the data"
   ]
  },
  {
   "cell_type": "code",
   "execution_count": 15,
   "id": "aa1bf42b",
   "metadata": {},
   "outputs": [],
   "source": [
    "train_df = df.filter(col('month') < 6)\n",
    "# we will keep the test df raw so we can simulate new data for the api\n",
    "test_df = df.filter(col('month') >= 6)\n",
    "\n",
    "train_df = train_df.drop('month')\n",
    "\n",
    "\n",
    "train_df_processed = train_df"
   ]
  },
  {
   "cell_type": "markdown",
   "id": "8423d885",
   "metadata": {},
   "source": [
    "### Processing pipeline"
   ]
  },
  {
   "cell_type": "code",
   "execution_count": 16,
   "id": "9d5073fd",
   "metadata": {},
   "outputs": [],
   "source": [
    "from pyspark.sql import SparkSession\n",
    "from pyspark.sql.functions import col\n",
    "from pyspark.sql.types import StringType, IntegerType, DoubleType, FloatType, LongType\n",
    "from pyspark.ml.feature import OneHotEncoder, StringIndexer, VectorAssembler, StandardScaler\n",
    "from pyspark.ml import Pipeline\n",
    "\n",
    "# identify categorical columns (string type) and numeric columns\n",
    "categorical_cols = [field.name for field in train_df_processed.schema.fields if isinstance(field.dataType, StringType)]\n",
    "# ignore fraud_bool column so we don't leak the data\n",
    "numeric_cols = [field.name for field in train_df_processed.schema.fields if (isinstance(field.dataType, (IntegerType, DoubleType, FloatType, LongType))) and field.name != 'fraud_bool']"
   ]
  },
  {
   "cell_type": "markdown",
   "id": "131b7dd9",
   "metadata": {},
   "source": [
    "Let's first create a transformation Pipeline"
   ]
  },
  {
   "cell_type": "code",
   "execution_count": 17,
   "id": "ccc2834d",
   "metadata": {},
   "outputs": [],
   "source": [
    "stages = []\n",
    "\n",
    "# StringIndexer + OneHotEncoder for categorical columns\n",
    "for categorical_col in categorical_cols:\n",
    "    string_indexer = StringIndexer(inputCol=categorical_col, outputCol=categorical_col + \"_index\")\n",
    "    encoder = OneHotEncoder(inputCol=categorical_col + \"_index\", outputCol=categorical_col + \"_encoded\")\n",
    "    stages += [string_indexer, encoder]\n",
    "\n",
    "# Assemble numeric values as a vector\n",
    "numeric_assembler = VectorAssembler(inputCols=numeric_cols, outputCol=\"numeric_features\")\n",
    "stages.append(numeric_assembler)\n",
    "\n",
    "# Assemble all features (numeric + encoded categorical)\n",
    "encoded_categorical_cols = [c + \"_encoded\" for c in categorical_cols]\n",
    "assembler_inputs = [\"numeric_features\"] + encoded_categorical_cols\n",
    "assembler = VectorAssembler(inputCols=assembler_inputs, outputCol=\"features\")\n",
    "stages.append(assembler)\n",
    "\n",
    "scaler = StandardScaler(inputCol=\"features\", outputCol=\"scaled_features\", withStd=True, withMean=True)\n",
    "stages.append(scaler)\n",
    "\n",
    "pipeline = Pipeline(stages=stages)"
   ]
  },
  {
   "cell_type": "code",
   "execution_count": 18,
   "id": "a3717261",
   "metadata": {},
   "outputs": [
    {
     "name": "stderr",
     "output_type": "stream",
     "text": [
      "                                                                                \r"
     ]
    },
    {
     "name": "stdout",
     "output_type": "stream",
     "text": [
      "+-------------------------------------------------------------------------------------------------------------------------------------------------------------------------------------------------------------------------------------------------------------------------------------------------------------------------------------------------------------------------------------------------------------------------------------------------------------------------------------------------------------------------------------------------------------------------------------------------------------------------------------------------------------------------------------------------------------------------------------------------------------------------------------------------------------------------------------------------------------------------------------------------------------------------+-----+\n",
      "|features                                                                                                                                                                                                                                                                                                                                                                                                                                                                                                                                                                                                                                                                                                                                                                                                                                                                                                                 |label|\n",
      "+-------------------------------------------------------------------------------------------------------------------------------------------------------------------------------------------------------------------------------------------------------------------------------------------------------------------------------------------------------------------------------------------------------------------------------------------------------------------------------------------------------------------------------------------------------------------------------------------------------------------------------------------------------------------------------------------------------------------------------------------------------------------------------------------------------------------------------------------------------------------------------------------------------------------------+-----+\n",
      "|[-0.8479125098073593,1.676175793358287,-0.3915057033048899,-0.7020889611492547,0.5239272750129519,-0.19688001647179093,4.578473522879784,-0.6008731658339578,2.3053604857950445,2.012561211768023,2.146742313800414,-0.3985684913477668,-0.9670948767651227,0.5030185592368356,0.9193438561901068,-0.8247492076967737,0.3602431922692519,-0.18253663644860216,-0.5376386529408637,1.9527674676680613,-0.16335577548236535,1.0387673194035054,0.8701719642398018,-0.11570015461562284,-0.7540703245426154,1.674881529834828,-0.5770240680048105,-0.3772822917773208,-1.599329285024318,2.4261070039567922,-0.21851219834830177,-0.20226957105954824,-0.16872333885085122,-0.15282232765796566,1.2780715880626958,-0.5886662287113965,-0.4607382835355354,-0.4416869371792718,-0.15201442235323412,-0.04136569258472746,0.08525783619447261,1.403538586756284,-0.7079683930618171,-0.6048221463850704,-0.23915911042074695]|0    |\n",
      "+-------------------------------------------------------------------------------------------------------------------------------------------------------------------------------------------------------------------------------------------------------------------------------------------------------------------------------------------------------------------------------------------------------------------------------------------------------------------------------------------------------------------------------------------------------------------------------------------------------------------------------------------------------------------------------------------------------------------------------------------------------------------------------------------------------------------------------------------------------------------------------------------------------------------------+-----+\n",
      "only showing top 1 row\n"
     ]
    }
   ],
   "source": [
    "# Fit pipeline to training data\n",
    "pipeline_model = pipeline.fit(train_df)\n",
    "\n",
    "train_df_processed = pipeline_model.transform(train_df_processed)\n",
    "\n",
    "# Select only the needed columns\n",
    "train_df_processed = train_df_processed.select(col('scaled_features').alias('features'), col('fraud_bool').alias('label'))\n",
    "\n",
    "train_df_processed.show(1, truncate=False)"
   ]
  },
  {
   "cell_type": "markdown",
   "id": "6120cb57",
   "metadata": {},
   "source": [
    "Now let's also keep the original df so we can use it for further analysis"
   ]
  },
  {
   "cell_type": "code",
   "execution_count": 19,
   "id": "9fa1c5b3",
   "metadata": {},
   "outputs": [
    {
     "name": "stdout",
     "output_type": "stream",
     "text": [
      "+-----+------+---------------------+-------------------------+----------------------------+------------+------------------+----------------------+------------+------------+------------------+-----------------+-----------------+--------------------+--------------------------------+-----------------+-----------------+-------------+--------------+----------------+------------------+-----------------+---------------+---------------------+---------------+--------+-------------------------+---------+------------------+-------------------------+---+\n",
      "|label|income|name_email_similarity|prev_address_months_count|current_address_months_count|customer_age|days_since_request|intended_balcon_amount|payment_type|zip_count_4w|       velocity_6h|     velocity_24h|      velocity_4w|bank_branch_count_8w|date_of_birth_distinct_emails_4w|employment_status|credit_risk_score|email_is_free|housing_status|phone_home_valid|phone_mobile_valid|bank_months_count|has_other_cards|proposed_credit_limit|foreign_request|  source|session_length_in_minutes|device_os|keep_alive_session|device_distinct_emails_8w| id|\n",
      "+-----+------+---------------------+-------------------------+----------------------------+------------+------------------+----------------------+------------+------------+------------------+-----------------+-----------------+--------------------+--------------------------------+-----------------+-----------------+-------------+--------------+----------------+------------------+-----------------+---------------+---------------------+---------------+--------+-------------------------+---------+------------------+-------------------------+---+\n",
      "|    0|   0.3|    0.986506310633034|                        0|                          25|          40|0.0067353870811739|    102.45371092469456|          AA|        1059|13096.035018400871|7850.955007125409|6742.080561007602|                   5|                               5|               CB|              163|            1|            BC|               0|                 1|                9|              0|               1500.0|              0|INTERNET|       16.224843433978073|    linux|                 1|                        1|  0|\n",
      "+-----+------+---------------------+-------------------------+----------------------------+------------+------------------+----------------------+------------+------------+------------------+-----------------+-----------------+--------------------+--------------------------------+-----------------+-----------------+-------------+--------------+----------------+------------------+-----------------+---------------+---------------------+---------------+--------+-------------------------+---------+------------------+-------------------------+---+\n",
      "only showing top 1 row\n",
      "+--------------------+-----+---+\n",
      "|            features|label| id|\n",
      "+--------------------+-----+---+\n",
      "|[-0.8479125098073...|    0|  0|\n",
      "+--------------------+-----+---+\n",
      "only showing top 1 row\n"
     ]
    }
   ],
   "source": [
    "from pyspark.sql.functions import monotonically_increasing_id\n",
    "train_df = train_df.withColumnRenamed(\"fraud_bool\", \"label\")\n",
    "train_df = train_df.withColumn(\"id\", monotonically_increasing_id())\n",
    "train_df.show(1)\n",
    "train_df_processed = train_df_processed.withColumn(\"id\", monotonically_increasing_id())\n",
    "train_df_processed.show(1)"
   ]
  },
  {
   "cell_type": "code",
   "execution_count": 20,
   "id": "4f1033cc",
   "metadata": {},
   "outputs": [
    {
     "name": "stdout",
     "output_type": "stream",
     "text": [
      "+----------+------+---------------------+-------------------------+----------------------------+------------+------------------+----------------------+------------+------------+------------------+-----------------+------------------+--------------------+--------------------------------+-----------------+-----------------+-------------+--------------+----------------+------------------+-----------------+---------------+---------------------+---------------+--------+-------------------------+---------+------------------+-------------------------+-----+------------+\n",
      "|fraud_bool|income|name_email_similarity|prev_address_months_count|current_address_months_count|customer_age|days_since_request|intended_balcon_amount|payment_type|zip_count_4w|       velocity_6h|     velocity_24h|       velocity_4w|bank_branch_count_8w|date_of_birth_distinct_emails_4w|employment_status|credit_risk_score|email_is_free|housing_status|phone_home_valid|phone_mobile_valid|bank_months_count|has_other_cards|proposed_credit_limit|foreign_request|  source|session_length_in_minutes|device_os|keep_alive_session|device_distinct_emails_8w|month|          id|\n",
      "+----------+------+---------------------+-------------------------+----------------------------+------------+------------------+----------------------+------------+------------+------------------+-----------------+------------------+--------------------+--------------------------------+-----------------+-----------------+-------------+--------------+----------------+------------------+-----------------+---------------+---------------------+---------------+--------+-------------------------+---------+------------------+-------------------------+-----+------------+\n",
      "|         0|   0.9|   0.5362924052528616|                        0|                         129|          50|0.0132965896454686|     36.47290539261088|          AA|        1360|3584.0449574428712|2110.445974500023|3536.2183237462164|                   9|                               5|               CA|              250|            0|            BC|               1|                 1|               31|              1|                500.0|              0|INTERNET|       1.8420788710220728|    other|                 0|                        1|    6|206158430208|\n",
      "+----------+------+---------------------+-------------------------+----------------------------+------------+------------------+----------------------+------------+------------+------------------+-----------------+------------------+--------------------+--------------------------------+-----------------+-----------------+-------------+--------------+----------------+------------------+-----------------+---------------+---------------------+---------------+--------+-------------------------+---------+------------------+-------------------------+-----+------------+\n",
      "only showing top 1 row\n"
     ]
    }
   ],
   "source": [
    "test_df = test_df.withColumn(\"id\", monotonically_increasing_id())\n",
    "test_df.show(1)"
   ]
  },
  {
   "cell_type": "markdown",
   "id": "242b3ed5",
   "metadata": {},
   "source": [
    "Let's save our pipeline model so we can use for future data"
   ]
  },
  {
   "cell_type": "code",
   "execution_count": 21,
   "id": "77b29ac4",
   "metadata": {},
   "outputs": [],
   "source": [
    "pipeline_model.write().overwrite().save(\"../models/processing_pipeline\")"
   ]
  },
  {
   "cell_type": "markdown",
   "id": "7d1ff61a",
   "metadata": {},
   "source": [
    "Now, when we have new data, all we need to do is load the processing pipeline, drop the month column, apply the pipeline and select the scaled_features as features and the fraud_bool column as label.\n",
    "\n",
    "or in pseudo code:\n",
    "\n",
    "```python\n",
    "from pyspark.ml import PipelineModel\n",
    "from pyspark.sql.functions import col\n",
    "\n",
    "pipe = PipelineModel.load(\"../models/processing_pipeline\")\n",
    "df_processed = test_df.drop(\"month\")\n",
    "\n",
    "df_processed = pipe.transform(test_df_processed)\n",
    "\n",
    "df_processed = df_processed.select(col('scaled_features').alias('features'), col('fraud_bool').alias('label'))\n",
    "df_processed.show(1, truncate=False)\n",
    "\n",
    "```"
   ]
  },
  {
   "cell_type": "markdown",
   "id": "17d85e87",
   "metadata": {},
   "source": [
    "### Wrapping Up"
   ]
  },
  {
   "cell_type": "code",
   "execution_count": null,
   "id": "3409fa64",
   "metadata": {},
   "outputs": [],
   "source": [
    "from pathlib import Path\n",
    "SAVE_DIR = Path(\"../data/processed\")\n",
    "SAVE_DIR.parent.mkdir(parents=True, exist_ok=True)"
   ]
  },
  {
   "cell_type": "code",
   "execution_count": 23,
   "id": "e5c20136",
   "metadata": {},
   "outputs": [
    {
     "name": "stderr",
     "output_type": "stream",
     "text": [
      "25/07/27 12:25:34 WARN MemoryManager: Total allocation exceeds 95.00% (1,020,054,720 bytes) of heap memory\n",
      "Scaling row group sizes to 95.00% for 8 writers\n",
      "25/07/27 12:25:34 WARN MemoryManager: Total allocation exceeds 95.00% (1,020,054,720 bytes) of heap memory\n",
      "Scaling row group sizes to 84.44% for 9 writers\n",
      "25/07/27 12:25:34 WARN MemoryManager: Total allocation exceeds 95.00% (1,020,054,720 bytes) of heap memory\n",
      "Scaling row group sizes to 76.00% for 10 writers\n",
      "25/07/27 12:25:34 WARN MemoryManager: Total allocation exceeds 95.00% (1,020,054,720 bytes) of heap memory\n",
      "Scaling row group sizes to 69.09% for 11 writers\n",
      "25/07/27 12:25:34 WARN MemoryManager: Total allocation exceeds 95.00% (1,020,054,720 bytes) of heap memory\n",
      "Scaling row group sizes to 63.33% for 12 writers\n",
      "25/07/27 12:25:34 WARN MemoryManager: Total allocation exceeds 95.00% (1,020,054,720 bytes) of heap memory\n",
      "Scaling row group sizes to 58.46% for 13 writers\n",
      "25/07/27 12:25:34 WARN MemoryManager: Total allocation exceeds 95.00% (1,020,054,720 bytes) of heap memory\n",
      "Scaling row group sizes to 54.29% for 14 writers\n",
      "25/07/27 12:25:34 WARN MemoryManager: Total allocation exceeds 95.00% (1,020,054,720 bytes) of heap memory\n",
      "Scaling row group sizes to 50.67% for 15 writers\n",
      "25/07/27 12:25:34 WARN MemoryManager: Total allocation exceeds 95.00% (1,020,054,720 bytes) of heap memory\n",
      "Scaling row group sizes to 47.50% for 16 writers\n",
      "25/07/27 12:25:34 WARN MemoryManager: Total allocation exceeds 95.00% (1,020,054,720 bytes) of heap memory\n",
      "Scaling row group sizes to 44.71% for 17 writers\n",
      "25/07/27 12:25:34 WARN MemoryManager: Total allocation exceeds 95.00% (1,020,054,720 bytes) of heap memory\n",
      "Scaling row group sizes to 42.22% for 18 writers\n",
      "25/07/27 12:25:34 WARN MemoryManager: Total allocation exceeds 95.00% (1,020,054,720 bytes) of heap memory\n",
      "Scaling row group sizes to 40.00% for 19 writers\n",
      "25/07/27 12:25:34 WARN MemoryManager: Total allocation exceeds 95.00% (1,020,054,720 bytes) of heap memory\n",
      "Scaling row group sizes to 38.00% for 20 writers\n",
      "25/07/27 12:25:34 WARN MemoryManager: Total allocation exceeds 95.00% (1,020,054,720 bytes) of heap memory\n",
      "Scaling row group sizes to 36.19% for 21 writers\n",
      "25/07/27 12:25:34 WARN MemoryManager: Total allocation exceeds 95.00% (1,020,054,720 bytes) of heap memory\n",
      "Scaling row group sizes to 34.55% for 22 writers\n",
      "25/07/27 12:25:34 WARN MemoryManager: Total allocation exceeds 95.00% (1,020,054,720 bytes) of heap memory\n",
      "Scaling row group sizes to 33.04% for 23 writers\n",
      "25/07/27 12:25:34 WARN MemoryManager: Total allocation exceeds 95.00% (1,020,054,720 bytes) of heap memory\n",
      "Scaling row group sizes to 31.67% for 24 writers\n",
      "25/07/27 12:25:34 WARN MemoryManager: Total allocation exceeds 95.00% (1,020,054,720 bytes) of heap memory\n",
      "Scaling row group sizes to 30.40% for 25 writers\n",
      "25/07/27 12:25:36 WARN MemoryManager: Total allocation exceeds 95.00% (1,020,054,720 bytes) of heap memory\n",
      "Scaling row group sizes to 31.67% for 24 writers\n",
      "25/07/27 12:25:36 WARN MemoryManager: Total allocation exceeds 95.00% (1,020,054,720 bytes) of heap memory\n",
      "Scaling row group sizes to 33.04% for 23 writers\n",
      "25/07/27 12:25:36 WARN MemoryManager: Total allocation exceeds 95.00% (1,020,054,720 bytes) of heap memory\n",
      "Scaling row group sizes to 34.55% for 22 writers\n",
      "25/07/27 12:25:36 WARN MemoryManager: Total allocation exceeds 95.00% (1,020,054,720 bytes) of heap memory\n",
      "Scaling row group sizes to 36.19% for 21 writers\n",
      "25/07/27 12:25:36 WARN MemoryManager: Total allocation exceeds 95.00% (1,020,054,720 bytes) of heap memory\n",
      "Scaling row group sizes to 38.00% for 20 writers\n",
      "25/07/27 12:25:36 WARN MemoryManager: Total allocation exceeds 95.00% (1,020,054,720 bytes) of heap memory\n",
      "Scaling row group sizes to 40.00% for 19 writers\n",
      "25/07/27 12:25:36 WARN MemoryManager: Total allocation exceeds 95.00% (1,020,054,720 bytes) of heap memory\n",
      "Scaling row group sizes to 42.22% for 18 writers\n",
      "25/07/27 12:25:36 WARN MemoryManager: Total allocation exceeds 95.00% (1,020,054,720 bytes) of heap memory\n",
      "Scaling row group sizes to 44.71% for 17 writers\n",
      "25/07/27 12:25:36 WARN MemoryManager: Total allocation exceeds 95.00% (1,020,054,720 bytes) of heap memory\n",
      "Scaling row group sizes to 47.50% for 16 writers\n",
      "25/07/27 12:25:36 WARN MemoryManager: Total allocation exceeds 95.00% (1,020,054,720 bytes) of heap memory\n",
      "Scaling row group sizes to 50.67% for 15 writers\n",
      "25/07/27 12:25:36 WARN MemoryManager: Total allocation exceeds 95.00% (1,020,054,720 bytes) of heap memory\n",
      "Scaling row group sizes to 54.29% for 14 writers\n",
      "25/07/27 12:25:36 WARN MemoryManager: Total allocation exceeds 95.00% (1,020,054,720 bytes) of heap memory\n",
      "Scaling row group sizes to 58.46% for 13 writers\n",
      "25/07/27 12:25:36 WARN MemoryManager: Total allocation exceeds 95.00% (1,020,054,720 bytes) of heap memory\n",
      "Scaling row group sizes to 63.33% for 12 writers\n",
      "25/07/27 12:25:36 WARN MemoryManager: Total allocation exceeds 95.00% (1,020,054,720 bytes) of heap memory\n",
      "Scaling row group sizes to 69.09% for 11 writers\n",
      "25/07/27 12:25:36 WARN MemoryManager: Total allocation exceeds 95.00% (1,020,054,720 bytes) of heap memory\n",
      "Scaling row group sizes to 76.00% for 10 writers\n",
      "25/07/27 12:25:36 WARN MemoryManager: Total allocation exceeds 95.00% (1,020,054,720 bytes) of heap memory\n",
      "Scaling row group sizes to 84.44% for 9 writers\n",
      "25/07/27 12:25:36 WARN MemoryManager: Total allocation exceeds 95.00% (1,020,054,720 bytes) of heap memory\n",
      "Scaling row group sizes to 95.00% for 8 writers\n",
      "25/07/27 12:25:36 WARN MemoryManager: Total allocation exceeds 95.00% (1,020,054,720 bytes) of heap memory\n",
      "Scaling row group sizes to 95.00% for 8 writers\n",
      "25/07/27 12:25:36 WARN MemoryManager: Total allocation exceeds 95.00% (1,020,054,720 bytes) of heap memory\n",
      "Scaling row group sizes to 84.44% for 9 writers\n",
      "25/07/27 12:25:36 WARN MemoryManager: Total allocation exceeds 95.00% (1,020,054,720 bytes) of heap memory\n",
      "Scaling row group sizes to 76.00% for 10 writers\n",
      "25/07/27 12:25:36 WARN MemoryManager: Total allocation exceeds 95.00% (1,020,054,720 bytes) of heap memory\n",
      "Scaling row group sizes to 69.09% for 11 writers\n",
      "25/07/27 12:25:36 WARN MemoryManager: Total allocation exceeds 95.00% (1,020,054,720 bytes) of heap memory\n",
      "Scaling row group sizes to 63.33% for 12 writers\n",
      "25/07/27 12:25:36 WARN MemoryManager: Total allocation exceeds 95.00% (1,020,054,720 bytes) of heap memory\n",
      "Scaling row group sizes to 58.46% for 13 writers\n",
      "25/07/27 12:25:36 WARN MemoryManager: Total allocation exceeds 95.00% (1,020,054,720 bytes) of heap memory\n",
      "Scaling row group sizes to 54.29% for 14 writers\n",
      "25/07/27 12:25:36 WARN MemoryManager: Total allocation exceeds 95.00% (1,020,054,720 bytes) of heap memory\n",
      "Scaling row group sizes to 50.67% for 15 writers\n",
      "25/07/27 12:25:36 WARN MemoryManager: Total allocation exceeds 95.00% (1,020,054,720 bytes) of heap memory\n",
      "Scaling row group sizes to 47.50% for 16 writers\n",
      "25/07/27 12:25:36 WARN MemoryManager: Total allocation exceeds 95.00% (1,020,054,720 bytes) of heap memory\n",
      "Scaling row group sizes to 44.71% for 17 writers\n",
      "25/07/27 12:25:36 WARN MemoryManager: Total allocation exceeds 95.00% (1,020,054,720 bytes) of heap memory\n",
      "Scaling row group sizes to 42.22% for 18 writers\n",
      "25/07/27 12:25:36 WARN MemoryManager: Total allocation exceeds 95.00% (1,020,054,720 bytes) of heap memory\n",
      "Scaling row group sizes to 40.00% for 19 writers\n",
      "25/07/27 12:25:36 WARN MemoryManager: Total allocation exceeds 95.00% (1,020,054,720 bytes) of heap memory\n",
      "Scaling row group sizes to 38.00% for 20 writers\n",
      "25/07/27 12:25:36 WARN MemoryManager: Total allocation exceeds 95.00% (1,020,054,720 bytes) of heap memory\n",
      "Scaling row group sizes to 36.19% for 21 writers\n",
      "25/07/27 12:25:36 WARN MemoryManager: Total allocation exceeds 95.00% (1,020,054,720 bytes) of heap memory\n",
      "Scaling row group sizes to 34.55% for 22 writers\n",
      "25/07/27 12:25:36 WARN MemoryManager: Total allocation exceeds 95.00% (1,020,054,720 bytes) of heap memory\n",
      "Scaling row group sizes to 33.04% for 23 writers\n",
      "25/07/27 12:25:36 WARN MemoryManager: Total allocation exceeds 95.00% (1,020,054,720 bytes) of heap memory\n",
      "Scaling row group sizes to 31.67% for 24 writers\n",
      "25/07/27 12:25:36 WARN MemoryManager: Total allocation exceeds 95.00% (1,020,054,720 bytes) of heap memory\n",
      "Scaling row group sizes to 30.40% for 25 writers\n",
      "25/07/27 12:25:37 WARN MemoryManager: Total allocation exceeds 95.00% (1,020,054,720 bytes) of heap memory\n",
      "Scaling row group sizes to 31.67% for 24 writers\n",
      "25/07/27 12:25:37 WARN MemoryManager: Total allocation exceeds 95.00% (1,020,054,720 bytes) of heap memory\n",
      "Scaling row group sizes to 33.04% for 23 writers\n",
      "25/07/27 12:25:37 WARN MemoryManager: Total allocation exceeds 95.00% (1,020,054,720 bytes) of heap memory\n",
      "Scaling row group sizes to 34.55% for 22 writers\n",
      "25/07/27 12:25:37 WARN MemoryManager: Total allocation exceeds 95.00% (1,020,054,720 bytes) of heap memory\n",
      "Scaling row group sizes to 36.19% for 21 writers\n",
      "25/07/27 12:25:37 WARN MemoryManager: Total allocation exceeds 95.00% (1,020,054,720 bytes) of heap memory\n",
      "Scaling row group sizes to 38.00% for 20 writers\n",
      "25/07/27 12:25:37 WARN MemoryManager: Total allocation exceeds 95.00% (1,020,054,720 bytes) of heap memory\n",
      "Scaling row group sizes to 40.00% for 19 writers\n",
      "25/07/27 12:25:37 WARN MemoryManager: Total allocation exceeds 95.00% (1,020,054,720 bytes) of heap memory\n",
      "Scaling row group sizes to 42.22% for 18 writers\n",
      "25/07/27 12:25:37 WARN MemoryManager: Total allocation exceeds 95.00% (1,020,054,720 bytes) of heap memory\n",
      "Scaling row group sizes to 44.71% for 17 writers\n",
      "25/07/27 12:25:37 WARN MemoryManager: Total allocation exceeds 95.00% (1,020,054,720 bytes) of heap memory\n",
      "Scaling row group sizes to 47.50% for 16 writers\n",
      "25/07/27 12:25:37 WARN MemoryManager: Total allocation exceeds 95.00% (1,020,054,720 bytes) of heap memory\n",
      "Scaling row group sizes to 50.67% for 15 writers\n",
      "25/07/27 12:25:37 WARN MemoryManager: Total allocation exceeds 95.00% (1,020,054,720 bytes) of heap memory\n",
      "Scaling row group sizes to 54.29% for 14 writers\n",
      "25/07/27 12:25:37 WARN MemoryManager: Total allocation exceeds 95.00% (1,020,054,720 bytes) of heap memory\n",
      "Scaling row group sizes to 58.46% for 13 writers\n",
      "25/07/27 12:25:37 WARN MemoryManager: Total allocation exceeds 95.00% (1,020,054,720 bytes) of heap memory\n",
      "Scaling row group sizes to 63.33% for 12 writers\n",
      "25/07/27 12:25:37 WARN MemoryManager: Total allocation exceeds 95.00% (1,020,054,720 bytes) of heap memory\n",
      "Scaling row group sizes to 69.09% for 11 writers\n",
      "25/07/27 12:25:37 WARN MemoryManager: Total allocation exceeds 95.00% (1,020,054,720 bytes) of heap memory\n",
      "Scaling row group sizes to 76.00% for 10 writers\n",
      "25/07/27 12:25:37 WARN MemoryManager: Total allocation exceeds 95.00% (1,020,054,720 bytes) of heap memory\n",
      "Scaling row group sizes to 84.44% for 9 writers\n",
      "25/07/27 12:25:37 WARN MemoryManager: Total allocation exceeds 95.00% (1,020,054,720 bytes) of heap memory\n",
      "Scaling row group sizes to 95.00% for 8 writers\n",
      "25/07/27 12:25:37 WARN MemoryManager: Total allocation exceeds 95.00% (1,020,054,720 bytes) of heap memory\n",
      "Scaling row group sizes to 95.00% for 8 writers\n",
      "25/07/27 12:25:37 WARN MemoryManager: Total allocation exceeds 95.00% (1,020,054,720 bytes) of heap memory\n",
      "Scaling row group sizes to 84.44% for 9 writers\n",
      "25/07/27 12:25:37 WARN MemoryManager: Total allocation exceeds 95.00% (1,020,054,720 bytes) of heap memory\n",
      "Scaling row group sizes to 95.00% for 8 writers\n"
     ]
    }
   ],
   "source": [
    "train_df_processed.write.parquet(str(SAVE_DIR / \"Base_train.parquet\"),mode=\"overwrite\")\n",
    "train_df.write.parquet(str(SAVE_DIR / \"Base_train_feats.parquet\"),mode=\"overwrite\")\n",
    "test_df.write.parquet(str(SAVE_DIR / \"Base_test.parquet\"),mode=\"overwrite\")"
   ]
  },
  {
   "cell_type": "code",
   "execution_count": 24,
   "id": "e6e21f13",
   "metadata": {},
   "outputs": [
    {
     "name": "stdout",
     "output_type": "stream",
     "text": [
      "+--------------------+-----+----------+\n",
      "|            features|label|        id|\n",
      "+--------------------+-----+----------+\n",
      "|[0.18046796286410...|    0|8589934592|\n",
      "+--------------------+-----+----------+\n",
      "only showing top 1 row\n",
      "+-----+------------------+---------------------+-------------------------+----------------------------+------------+------------------+----------------------+------------+------------+----------------+-----------------+-----------------+--------------------+--------------------------------+-----------------+-----------------+-------------+--------------+----------------+------------------+-----------------+---------------+---------------------+---------------+--------+-------------------------+---------+------------------+-------------------------+----------+\n",
      "|label|            income|name_email_similarity|prev_address_months_count|current_address_months_count|customer_age|days_since_request|intended_balcon_amount|payment_type|zip_count_4w|     velocity_6h|     velocity_24h|      velocity_4w|bank_branch_count_8w|date_of_birth_distinct_emails_4w|employment_status|credit_risk_score|email_is_free|housing_status|phone_home_valid|phone_mobile_valid|bank_months_count|has_other_cards|proposed_credit_limit|foreign_request|  source|session_length_in_minutes|device_os|keep_alive_session|device_distinct_emails_8w|        id|\n",
      "+-----+------------------+---------------------+-------------------------+----------------------------+------------+------------------+----------------------+------------+------------+----------------+-----------------+-----------------+--------------------+--------------------------------+-----------------+-----------------+-------------+--------------+----------------+------------------+-----------------+---------------+---------------------+---------------+--------+-------------------------+---------+------------------+-------------------------+----------+\n",
      "|    0|0.6000000000000001|   0.5366599069888133|                        0|                          67|          20|0.0157408513961524|    -1.216869166046248|          AD|        3877|5146.22779050877|4343.108794873534|6400.249142458805|                   7|                              11|               CA|              102|            0|            BE|               1|                 1|                1|              0|                200.0|              0|INTERNET|       0.1669620554710689|    linux|                 1|                        1|8589934592|\n",
      "+-----+------------------+---------------------+-------------------------+----------------------------+------------+------------------+----------------------+------------+------------+----------------+-----------------+-----------------+--------------------+--------------------------------+-----------------+-----------------+-------------+--------------+----------------+------------------+-----------------+---------------+---------------------+---------------+--------+-------------------------+---------+------------------+-------------------------+----------+\n",
      "only showing top 1 row\n",
      "+----------+------+---------------------+-------------------------+----------------------------+------------+------------------+----------------------+------------+------------+-----------------+-----------------+-----------------+--------------------+--------------------------------+-----------------+-----------------+-------------+--------------+----------------+------------------+-----------------+---------------+---------------------+---------------+--------+-------------------------+---------+------------------+-------------------------+-----+------------+\n",
      "|fraud_bool|income|name_email_similarity|prev_address_months_count|current_address_months_count|customer_age|days_since_request|intended_balcon_amount|payment_type|zip_count_4w|      velocity_6h|     velocity_24h|      velocity_4w|bank_branch_count_8w|date_of_birth_distinct_emails_4w|employment_status|credit_risk_score|email_is_free|housing_status|phone_home_valid|phone_mobile_valid|bank_months_count|has_other_cards|proposed_credit_limit|foreign_request|  source|session_length_in_minutes|device_os|keep_alive_session|device_distinct_emails_8w|month|          id|\n",
      "+----------+------+---------------------+-------------------------+----------------------------+------------+------------------+----------------------+------------+------------+-----------------+-----------------+-----------------+--------------------+--------------------------------+-----------------+-----------------+-------------+--------------+----------------+------------------+-----------------+---------------+---------------------+---------------+--------+-------------------------+---------+------------------+-------------------------+-----+------------+\n",
      "|         0|   0.8|   0.5029606721569614|                       13|                          14|          30|0.0316992280870365|   -0.5045184799697513|          AC|        1011|4886.699561070474|3751.732496052664|4221.211999552895|                   0|                              14|               CA|              237|            0|            BC|               0|                 1|                0|              0|               1000.0|              0|INTERNET|       5.2459033120485845|    other|                 1|                        1|    6|240518168576|\n",
      "+----------+------+---------------------+-------------------------+----------------------------+------------+------------------+----------------------+------------+------------+-----------------+-----------------+-----------------+--------------------+--------------------------------+-----------------+-----------------+-------------+--------------+----------------+------------------+-----------------+---------------+---------------------+---------------+--------+-------------------------+---------+------------------+-------------------------+-----+------------+\n",
      "only showing top 1 row\n"
     ]
    }
   ],
   "source": [
    "new_train_df = spark.read.parquet(str(SAVE_DIR / \"Base_train.parquet\"))\n",
    "new_train_df.show(1)\n",
    "\n",
    "new_feats_df = spark.read.parquet(str(SAVE_DIR / \"Base_train_feats.parquet\"))\n",
    "new_feats_df.show(1)\n",
    "\n",
    "new_test_df = spark.read.parquet(str(SAVE_DIR / \"Base_test.parquet\"))\n",
    "new_test_df.show(1)"
   ]
  },
  {
   "cell_type": "code",
   "execution_count": null,
   "id": "06808c6d",
   "metadata": {},
   "outputs": [],
   "source": []
  }
 ],
 "metadata": {
  "kernelspec": {
   "display_name": "fraud-detection",
   "language": "python",
   "name": "python3"
  },
  "language_info": {
   "codemirror_mode": {
    "name": "ipython",
    "version": 3
   },
   "file_extension": ".py",
   "mimetype": "text/x-python",
   "name": "python",
   "nbconvert_exporter": "python",
   "pygments_lexer": "ipython3",
   "version": "3.13.2"
  }
 },
 "nbformat": 4,
 "nbformat_minor": 5
}
